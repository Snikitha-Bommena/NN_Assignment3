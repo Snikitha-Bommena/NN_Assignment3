{
 "cells": [
  {
   "cell_type": "code",
   "execution_count": 25,
   "id": "b06f771f",
   "metadata": {},
   "outputs": [
    {
     "name": "stdout",
     "output_type": "stream",
     "text": [
      "Few benefits as full time employee\n",
      "average salary = 312344.75\n"
     ]
    }
   ],
   "source": [
    "class Employee:\n",
    "    EmpNum = 0\n",
    "    \n",
    "    def __init__(self, name, family_name, salary, department):\n",
    "        self.Name = name\n",
    "        self.FamilyName = family_name\n",
    "        self.Salary = salary\n",
    "        self.Department = department\n",
    "        Employee.EmpNum += 1\n",
    "        \n",
    "    def averagesalary(s):\n",
    "        \n",
    "        sum = 0\n",
    "        for employee in s:\n",
    "            sum += employee.Salary\n",
    "        return sum / Employee.EmpNum\n",
    "    \n",
    "class FulltimeEmployee(Employee):\n",
    "    def __init__(self,name,family_name,salary,department):\n",
    "        super().__init__(name,family_name,salary,department)\n",
    "    def Benefits(self):\n",
    "        print(\"Few benefits as full time employee\")\n",
    "        \n",
    "        \n",
    "def main():\n",
    "    employees = []\n",
    "    e1 = FulltimeEmployee(\"Jk\",\"k\",1234566,\"Development\")\n",
    "    e1.Benefits()\n",
    "    employees.append(e1)\n",
    "    e2 = FulltimeEmployee(\"abc\",\"def\",1234,\"telemarketing\")\n",
    "    employees.append(e2)\n",
    "    e3 = FulltimeEmployee(\"ghi\",\"jkl\",1234,\"Testing\")\n",
    "    employees.append(e3)\n",
    "    e4 = FulltimeEmployee(\"web\",\"tec\",12345,\"Rescource management\")\n",
    "    employees.append(e4)\n",
    "    print(\"average salary =\", FulltimeEmployee.averagesalary(employees))\n",
    "    \n",
    "if __name__ == \"__main__\":\n",
    "    main()"
   ]
  },
  {
   "cell_type": "markdown",
   "id": "56fdf4c9",
   "metadata": {},
   "source": [
    "Q1 DESCRIPTION\n",
    "In the above code,\n",
    "1.Created a variable to count the employees\n",
    "2.Created a constructor in employees class and intialized variables in the constructor\n",
    "3.Created a method averagesalary to calculate avarage salary with the formula - > Sum of salaries of all employees/ total number of employees\n",
    "4.Used for loop to calculate the sum of salaries \n",
    "5.Created FulltimeEmployee which inherits form employee class\n",
    "6.In the main methos, created a empty list employees\n",
    "7.Added values to the list using append methods\n",
    "8.Printed average salary, Called averagesalary method"
   ]
  },
  {
   "cell_type": "code",
   "execution_count": 28,
   "id": "0c0cea13",
   "metadata": {},
   "outputs": [
    {
     "name": "stdout",
     "output_type": "stream",
     "text": [
      "[16.64507694 11.75535126  3.62764565  2.48413036  7.61546065  6.17938396\n",
      "  7.19158967 17.8637294   6.8063506   1.1401625  15.56174091 15.58965967\n",
      "  8.06913893  1.10193436  3.8068731  17.70083543 14.2773473   9.44897052\n",
      "  9.76411921  9.86425805]\n",
      "Array : [16.64507694 11.75535126  3.62764565  2.48413036  7.61546065  6.17938396\n",
      "  7.19158967 17.8637294   6.8063506   1.1401625  15.56174091 15.58965967\n",
      "  8.06913893  1.10193436  3.8068731  17.70083543 14.2773473   9.44897052\n",
      "  9.76411921  9.86425805]\n",
      "First Reshaped Array 4 x 5 : \n",
      "[[16.64507694 11.75535126  3.62764565  2.48413036  7.61546065]\n",
      " [ 6.17938396  7.19158967 17.8637294   6.8063506   1.1401625 ]\n",
      " [15.56174091 15.58965967  8.06913893  1.10193436  3.8068731 ]\n",
      " [17.70083543 14.2773473   9.44897052  9.76411921  9.86425805]]\n",
      "[[ 0.         11.75535126  3.62764565  2.48413036  7.61546065]\n",
      " [ 6.17938396  7.19158967  0.          6.8063506   1.1401625 ]\n",
      " [15.56174091  0.          8.06913893  1.10193436  3.8068731 ]\n",
      " [ 0.         14.2773473   9.44897052  9.76411921  9.86425805]]\n"
     ]
    }
   ],
   "source": [
    "import numpy as np\n",
    "a = np.random.uniform(1,20,20)\n",
    "print(a)\n",
    "\n",
    "import numpy as np\n",
    "\n",
    "Vector = a;\n",
    "\n",
    "print(\"Array : \" + str(Vector))\n",
    "\n",
    "n = Vector.size\n",
    "\n",
    "N = 4\n",
    "\n",
    "M = n//N\n",
    "reshaped = Vector.reshape((N, M))\n",
    "print(\"First Reshaped Array 4 x 5 : \")\n",
    "print(reshaped)\n",
    "a = reshaped\n",
    "b = a\n",
    "b[np.arange(len(a)), a.argmax(1)] = 0\n",
    "print(b)"
   ]
  },
  {
   "cell_type": "markdown",
   "id": "87a0e67e",
   "metadata": {},
   "source": [
    "Q2 DESCRIPTION\n",
    "In the above code\n",
    "1.Imported numpy\n",
    "2.Created a vector which has random float variables form 1 to 20\n",
    "3.Created a variable to store the length and created a n integer with value 4\n",
    "5.Reshaped the array to 4*5 matrix\n",
    "6.Replaced the maximum value of all the rows to 0"
   ]
  }
 ],
 "metadata": {
  "kernelspec": {
   "display_name": "Python 3 (ipykernel)",
   "language": "python",
   "name": "python3"
  },
  "language_info": {
   "codemirror_mode": {
    "name": "ipython",
    "version": 3
   },
   "file_extension": ".py",
   "mimetype": "text/x-python",
   "name": "python",
   "nbconvert_exporter": "python",
   "pygments_lexer": "ipython3",
   "version": "3.9.13"
  }
 },
 "nbformat": 4,
 "nbformat_minor": 5
}
